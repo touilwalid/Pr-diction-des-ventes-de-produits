{
  "nbformat": 4,
  "nbformat_minor": 0,
  "metadata": {
    "colab": {
      "provenance": [],
      "authorship_tag": "ABX9TyP0+B3lu2QDhtluT7BfR2+j",
      "include_colab_link": true
    },
    "kernelspec": {
      "name": "python3",
      "display_name": "Python 3"
    },
    "language_info": {
      "name": "python"
    }
  },
  "cells": [
    {
      "cell_type": "markdown",
      "metadata": {
        "id": "view-in-github",
        "colab_type": "text"
      },
      "source": [
        "<a href=\"https://colab.research.google.com/github/touilwalid/Pr-diction-des-ventes-de-produits/blob/main/%22Pr%C3%A9diction_des_ventes_de_produits%22_.ipynb\" target=\"_parent\"><img src=\"https://colab.research.google.com/assets/colab-badge.svg\" alt=\"Open In Colab\"/></a>"
      ]
    },
    {
      "cell_type": "markdown",
      "source": [
        "#Project_1: Prediction of Product Sales"
      ],
      "metadata": {
        "id": "xM4X6m8hDa7U"
      }
    },
    {
      "cell_type": "markdown",
      "source": [
        "Author: Touil Walid\n"
      ],
      "metadata": {
        "id": "KpnI4QL5Eq__"
      }
    },
    {
      "cell_type": "markdown",
      "source": [
        "#Project Overview"
      ],
      "metadata": {
        "id": "nTpoyS_FFDdM"
      }
    },
    {
      "cell_type": "code",
      "source": [],
      "metadata": {
        "id": "IzDkVNfgF870"
      },
      "execution_count": null,
      "outputs": []
    },
    {
      "cell_type": "markdown",
      "source": [
        "## Load and Inspect Data"
      ],
      "metadata": {
        "id": "5prtHXKIFq95"
      }
    },
    {
      "cell_type": "code",
      "source": [],
      "metadata": {
        "id": "hdNjxNN4F0N2"
      },
      "execution_count": null,
      "outputs": []
    },
    {
      "cell_type": "markdown",
      "source": [
        "## Clean Data"
      ],
      "metadata": {
        "id": "AhUXhTuaGFkc"
      }
    },
    {
      "cell_type": "code",
      "source": [],
      "metadata": {
        "id": "zq23nFiUGJgw"
      },
      "execution_count": null,
      "outputs": []
    },
    {
      "cell_type": "markdown",
      "source": [
        "## Exploratory Data Analysis"
      ],
      "metadata": {
        "id": "BTHcZf0WGKp1"
      }
    },
    {
      "cell_type": "code",
      "source": [],
      "metadata": {
        "id": "wJYZIZGBGO-W"
      },
      "execution_count": null,
      "outputs": []
    },
    {
      "cell_type": "markdown",
      "source": [
        "## Feature Inspection"
      ],
      "metadata": {
        "id": "A33D-MCyGPeR"
      }
    },
    {
      "cell_type": "code",
      "source": [],
      "metadata": {
        "id": "QEqHKuLVGTcJ"
      },
      "execution_count": null,
      "outputs": []
    }
  ]
}